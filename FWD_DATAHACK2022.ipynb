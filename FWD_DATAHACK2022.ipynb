{
 "cells": [
  {
   "cell_type": "code",
   "execution_count": null,
   "id": "2e2cf82c",
   "metadata": {},
   "outputs": [],
   "source": [
    "%matplotlib inline\n",
    "from IPython.display import display\n",
    "import pandas as pd\n",
    "import matplotlib.pyplot as plt\n",
    "import seaborn as sns\n",
    "import numpy as np\n",
    "\n",
    "sns.set(style=\"darkgrid\")\n",
    "pd.set_option('float_format', '{:f}'.format)\n",
    "\n",
    "dfMA = pd.read_csv('max_activity.csv') #MA = max_activity\n",
    "dfMM = pd.read_csv('max_member.csv') #MA = max_member\n",
    "dfPT = pd.read_csv('policy_table.csv') #MA = policy_table\n",
    "\n",
    "dfMA.columns = ['id', 'created-date', 'type', 'category', 'activity', 'name', 'customer-id', 'id-hash']\n",
    "dfMM.columns = ['member-type', 'registration', 'gained-point', 'spent-point', 'current-point', 'last-login', 'language', 'gender', 'dob', 'premium-paid', 'optoutstatus', 'status', 'customer-id', 'id_hash']\n",
    "dfPT.columns = ['customer-id', 'issue-date', 'end-date', 'termination-date', 'account-status', 'product-category', 'product-group', 'policy-hash']"
   ]
  },
  {
   "cell_type": "markdown",
   "id": "58260c18",
   "metadata": {},
   "source": [
    "## Display top table of 3 in order: activity, member & policy"
   ]
  },
  {
   "cell_type": "code",
   "execution_count": null,
   "id": "4a99bfad",
   "metadata": {},
   "outputs": [],
   "source": [
    "display(dfMA.head())\n",
    "display(dfMM.head())\n",
    "display(dfPT.head())\n",
    "\n",
    "#display(dfMA.info())\n",
    "#display(dfMM.info())\n",
    "#display(dfPT.info())"
   ]
  },
  {
   "cell_type": "markdown",
   "id": "6a3e86b2",
   "metadata": {},
   "source": [
    "# Activity Data\n",
    "'id', 'created-date', 'type', 'category', 'activity', 'name', 'customer-id', 'id-hash'"
   ]
  },
  {
   "cell_type": "code",
   "execution_count": null,
   "id": "afcca1e0",
   "metadata": {
    "scrolled": true
   },
   "outputs": [],
   "source": [
    "display(len(dfMA))   #it has 976528 ids\n",
    "display(len(dfMA['id'].drop_duplicates())) #it has 974454 unique ids"
   ]
  },
  {
   "cell_type": "code",
   "execution_count": null,
   "id": "4756102f",
   "metadata": {
    "scrolled": false
   },
   "outputs": [],
   "source": [
    "display(dfMA['type'].value_counts())\n",
    "display(dfMA['category'].value_counts())\n",
    "display(dfMA['activity'].value_counts())"
   ]
  },
  {
   "cell_type": "markdown",
   "id": "80f6fb18",
   "metadata": {},
   "source": [
    "## Activity's type data"
   ]
  },
  {
   "cell_type": "code",
   "execution_count": null,
   "id": "c0d1668e",
   "metadata": {
    "scrolled": false
   },
   "outputs": [],
   "source": [
    "dfMA['type'].value_counts().plot(kind='pie', figsize=(12, 24))"
   ]
  },
  {
   "cell_type": "code",
   "execution_count": null,
   "id": "e572950f",
   "metadata": {},
   "outputs": [],
   "source": [
    "ax = dfMA['type'].value_counts().plot(kind='bar', figsize=(12, 12))\n",
    "ax.set_ylabel('Total')"
   ]
  },
  {
   "cell_type": "markdown",
   "id": "c60a1bb3",
   "metadata": {},
   "source": [
    "## Activity's Category"
   ]
  },
  {
   "cell_type": "code",
   "execution_count": null,
   "id": "f7f10118",
   "metadata": {},
   "outputs": [],
   "source": [
    "dfMA['category'].value_counts().plot(kind='pie', figsize=(12, 24))"
   ]
  },
  {
   "cell_type": "code",
   "execution_count": null,
   "id": "e12f5fc1",
   "metadata": {},
   "outputs": [],
   "source": [
    "ax = dfMA['category'].value_counts().plot(kind='bar', figsize=(12, 12))\n",
    "ax.set_ylabel('Total')"
   ]
  },
  {
   "cell_type": "markdown",
   "id": "a91131b2",
   "metadata": {},
   "source": [
    "## Activity's activity"
   ]
  },
  {
   "cell_type": "code",
   "execution_count": null,
   "id": "ebb4c8bf",
   "metadata": {},
   "outputs": [],
   "source": [
    "dfMA['activity'].value_counts().plot(kind='pie', figsize=(12, 24))"
   ]
  },
  {
   "cell_type": "code",
   "execution_count": null,
   "id": "f401355a",
   "metadata": {},
   "outputs": [],
   "source": [
    "ax = dfMA['activity'].value_counts().plot(kind='bar', figsize=(12, 12))\n",
    "ax.set_ylabel('Total')"
   ]
  },
  {
   "cell_type": "markdown",
   "id": "b688cc2d",
   "metadata": {},
   "source": [
    "# Member Data\n",
    "'member-type', 'registration', 'gained-point', 'spent-point', 'current-point', 'last-login', 'language', 'gender', 'dob', 'premium-paid', 'optoutstatus', 'status', 'customer-id', 'id_hash'"
   ]
  },
  {
   "cell_type": "code",
   "execution_count": null,
   "id": "ae04f0ab",
   "metadata": {
    "scrolled": true
   },
   "outputs": [],
   "source": [
    "display(len(dfMM))   #it has 331518 ids\n",
    "display(len(dfMM['customer-id'].drop_duplicates())) #it has 323985 unique ids"
   ]
  },
  {
   "cell_type": "code",
   "execution_count": null,
   "id": "5405043c",
   "metadata": {
    "scrolled": true
   },
   "outputs": [],
   "source": [
    "display(dfMM['member-type'].value_counts()) # has 2 types\n",
    "display(dfMM['registration'].value_counts()) # has 9 differents\n",
    "display(dfMM['language'].value_counts()) # has 2 languages\n",
    "display(dfMM['gender'].value_counts()) # F= female, M = Male, U = ??, C = ??\n",
    "display(dfMM['status'].value_counts()) # 8 status types"
   ]
  },
  {
   "cell_type": "markdown",
   "id": "bd1d499b",
   "metadata": {},
   "source": [
    "## Member Data - Member types"
   ]
  },
  {
   "cell_type": "code",
   "execution_count": null,
   "id": "28154d05",
   "metadata": {
    "scrolled": true
   },
   "outputs": [],
   "source": [
    "dfMM['member-type'].value_counts().plot(kind='pie', figsize=(12, 24))"
   ]
  },
  {
   "cell_type": "code",
   "execution_count": null,
   "id": "d46f9081",
   "metadata": {},
   "outputs": [],
   "source": [
    "ax = dfMM['member-type'].value_counts().plot(kind='bar', figsize=(12, 12))\n",
    "ax.set_ylabel('Total')"
   ]
  },
  {
   "cell_type": "markdown",
   "id": "4fef101e",
   "metadata": {},
   "source": [
    "## Member Data - registration"
   ]
  },
  {
   "cell_type": "code",
   "execution_count": null,
   "id": "e8c42e07",
   "metadata": {},
   "outputs": [],
   "source": [
    "dfMM['registration'].value_counts().plot(kind='pie', figsize=(12, 24))"
   ]
  },
  {
   "cell_type": "code",
   "execution_count": null,
   "id": "2d8f7e39",
   "metadata": {},
   "outputs": [],
   "source": [
    "ax = dfMM['registration'].value_counts().plot(kind='bar', figsize=(12, 12))\n",
    "ax.set_ylabel('Total')"
   ]
  },
  {
   "cell_type": "markdown",
   "id": "7da80887",
   "metadata": {},
   "source": [
    "## Member Data - language"
   ]
  },
  {
   "cell_type": "code",
   "execution_count": null,
   "id": "4e5de864",
   "metadata": {},
   "outputs": [],
   "source": [
    "dfMM['language'].value_counts().plot(kind='pie', figsize=(12, 24))"
   ]
  },
  {
   "cell_type": "code",
   "execution_count": null,
   "id": "58b637fa",
   "metadata": {},
   "outputs": [],
   "source": [
    "ax = dfMM['language'].value_counts().plot(kind='bar', figsize=(12, 12))\n",
    "ax.set_ylabel('Total')"
   ]
  },
  {
   "cell_type": "markdown",
   "id": "2acc0375",
   "metadata": {},
   "source": [
    "## Member Data - gender"
   ]
  },
  {
   "cell_type": "code",
   "execution_count": null,
   "id": "93a7f791",
   "metadata": {},
   "outputs": [],
   "source": [
    "dfMM['gender'].value_counts().plot(kind='pie', figsize=(12, 24))"
   ]
  },
  {
   "cell_type": "code",
   "execution_count": null,
   "id": "6d41c982",
   "metadata": {},
   "outputs": [],
   "source": [
    "ax = dfMM['gender'].value_counts().plot(kind='bar', figsize=(12, 12))\n",
    "ax.set_ylabel('Total')"
   ]
  },
  {
   "cell_type": "markdown",
   "id": "5fe22c55",
   "metadata": {},
   "source": [
    "## Member Data - status"
   ]
  },
  {
   "cell_type": "code",
   "execution_count": null,
   "id": "9427a20b",
   "metadata": {},
   "outputs": [],
   "source": [
    "dfMM['status'].value_counts().plot(kind='pie', figsize=(12, 24))"
   ]
  },
  {
   "cell_type": "code",
   "execution_count": null,
   "id": "56d07bf2",
   "metadata": {
    "scrolled": true
   },
   "outputs": [],
   "source": [
    "ax = dfMM['status'].value_counts().plot(kind='bar', figsize=(12, 12))\n",
    "ax.set_ylabel('Total')"
   ]
  },
  {
   "cell_type": "markdown",
   "id": "e4a5c82c",
   "metadata": {},
   "source": [
    "# Policy Data\n",
    "'customer-id', 'issue-date', 'end-date', 'termination-date', 'account-status', 'product-category', 'product-group', 'policy-hash'"
   ]
  },
  {
   "cell_type": "code",
   "execution_count": null,
   "id": "b5c5a5bb",
   "metadata": {},
   "outputs": [],
   "source": [
    "display(len(dfPT))   #it has 2346069 ids\n",
    "display(len(dfPT['customer-id'].drop_duplicates())) #it has 611224 unique ids"
   ]
  },
  {
   "cell_type": "code",
   "execution_count": null,
   "id": "05faa130",
   "metadata": {},
   "outputs": [],
   "source": [
    "display(dfPT['account-status'].value_counts()) # has 12 status types\n",
    "display(dfPT['product-category'].value_counts()) # has 24 product types\n",
    "display(dfPT['product-group'].value_counts()) # has 2 product group types"
   ]
  },
  {
   "cell_type": "markdown",
   "id": "63a17f27",
   "metadata": {},
   "source": [
    "## Policy Data - account status"
   ]
  },
  {
   "cell_type": "code",
   "execution_count": null,
   "id": "177cef50",
   "metadata": {},
   "outputs": [],
   "source": [
    "dfPT['account-status'].value_counts().plot(kind='pie', figsize=(12, 24))"
   ]
  },
  {
   "cell_type": "code",
   "execution_count": null,
   "id": "bdc75d06",
   "metadata": {},
   "outputs": [],
   "source": [
    "ax = dfPT['account-status'].value_counts().plot(kind='bar', figsize=(12, 12))\n",
    "ax.set_ylabel('Total')"
   ]
  },
  {
   "cell_type": "markdown",
   "id": "f4e3a1d3",
   "metadata": {},
   "source": [
    "## Policy Data - product-category"
   ]
  },
  {
   "cell_type": "code",
   "execution_count": null,
   "id": "1dbc77a8",
   "metadata": {},
   "outputs": [],
   "source": [
    "dfPT['product-category'].value_counts().plot(kind='pie', figsize=(12, 24))"
   ]
  },
  {
   "cell_type": "code",
   "execution_count": null,
   "id": "e0dfeb11",
   "metadata": {},
   "outputs": [],
   "source": [
    "ax = dfPT['product-category'].value_counts().plot(kind='bar', figsize=(12, 12))\n",
    "ax.set_ylabel('Total')"
   ]
  },
  {
   "cell_type": "markdown",
   "id": "50bf82ae",
   "metadata": {},
   "source": [
    "## Policy Data - product-group"
   ]
  },
  {
   "cell_type": "code",
   "execution_count": null,
   "id": "028e3fcc",
   "metadata": {},
   "outputs": [],
   "source": [
    "dfPT['product-group'].value_counts().plot(kind='pie', figsize=(12, 24))"
   ]
  },
  {
   "cell_type": "code",
   "execution_count": null,
   "id": "c9b6d3a8",
   "metadata": {},
   "outputs": [],
   "source": [
    "ax = dfPT['product-group'].value_counts().plot(kind='bar', figsize=(12, 12))\n",
    "ax.set_ylabel('Total')"
   ]
  }
 ],
 "metadata": {
  "kernelspec": {
   "display_name": "Python 3 (ipykernel)",
   "language": "python",
   "name": "python3"
  },
  "language_info": {
   "codemirror_mode": {
    "name": "ipython",
    "version": 3
   },
   "file_extension": ".py",
   "mimetype": "text/x-python",
   "name": "python",
   "nbconvert_exporter": "python",
   "pygments_lexer": "ipython3",
   "version": "3.9.12"
  }
 },
 "nbformat": 4,
 "nbformat_minor": 5
}
